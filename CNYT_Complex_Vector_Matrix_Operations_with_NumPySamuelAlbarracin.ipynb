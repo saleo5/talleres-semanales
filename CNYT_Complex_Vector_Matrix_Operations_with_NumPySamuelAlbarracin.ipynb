{
 "cells": [
  {
   "cell_type": "markdown",
   "id": "a07bd584",
   "metadata": {},
   "source": [
    "# Theory of Complex Vector Spaces\n",
    "Complex vector spaces extend the idea of real vector spaces by allowing vectors to have complex numbers as their components. In these spaces, vectors can be added together and multiplied by complex scalars to produce new vectors. Key operations in complex vector spaces include vector addition, scalar multiplication, vector negation, and complex conjugation."
   ]
  },
  {
   "cell_type": "code",
   "execution_count": 3,
   "id": "c569c249-1355-41fb-a309-c02d910227fb",
   "metadata": {},
   "outputs": [
    {
     "name": "stdout",
     "output_type": "stream",
     "text": [
      "Matrix:\n",
      " [[2 3]\n",
      " [1 4]]\n",
      "\n",
      "Vector:\n",
      " [5 6]\n",
      "\n",
      "Result of multiplication:\n",
      " [28 29]\n"
     ]
    }
   ],
   "source": [
    "import sys\n",
    "import numpy as np\n",
    "\n",
    "# Define a 2x2 square matrix\n",
    "matrix = np.array([[2, 3],\n",
    "                   [1, 4]])\n",
    "\n",
    "# Define a vector of size 2\n",
    "vector = np.array([5, 6])\n",
    "\n",
    "# Multiply the matrix by the vector\n",
    "result = np.dot(matrix, vector)\n",
    "\n",
    "\n",
    "# Display the result\n",
    "print(\"Matrix:\\n\", matrix)\n",
    "print(\"\\nVector:\\n\", vector)\n",
    "print(\"\\nResult of multiplication:\\n\", result)\n"
   ]
  },
  {
   "cell_type": "markdown",
   "id": "79632736-91a1-468c-a6a7-8b373cdfe3af",
   "metadata": {},
   "source": [
    "## Manipulating Complex Column Vectors using NumPy\n",
    "Here we demonstrate how to manipulate complex column vectors using NumPy, including operations like sum, negation, multiplication by a scalar, transpose, adjunct, and conjugate."
   ]
  },
  {
   "cell_type": "markdown",
   "id": "61ec803a-ea69-4d0f-bbfe-c300afec3044",
   "metadata": {},
   "source": [
    "import sys\n",
    "import numpy as np\n",
    "\n",
    "# Define two complex column vectors\n",
    "v1 = np.array([[2+3j], [5-4j], [1+1j]])\n",
    "v2 = np.array([[1-1j], [3+2j], [4-4j]])\n",
    "\n",
    "# Sum\n",
    "sum_v = v1 + v2\n",
    "\n",
    "# Negation\n",
    "neg_v1 = -v1\n",
    "\n",
    "# Multiplication by a scalar\n",
    "scalar = 2 + 1j\n",
    "mult_v1 = v1 * scalar\n",
    "\n",
    "# Transpose\n",
    "transpose_v1 = v1.T\n",
    "\n",
    "# Adjunct (Conjugate transpose)\n",
    "adjunct_v1 = v1.T.conj()\n",
    "\n",
    "# Conjugate\n",
    "conjugate_v1 = np.conjugate(v1)\n",
    "\n",
    "(sum_v, neg_v1, mult_v1, transpose_v1, adjunct_v1, conjugate_v1)\n"
   ]
  },
  {
   "cell_type": "markdown",
   "id": "995ae5fc",
   "metadata": {},
   "source": [
    "# Theory of Vector Spaces using Matrices\n",
    "In the context of matrices, vector spaces can be defined where each vector is a matrix of a particular size. Operations on these matrix-vector spaces include matrix addition, scalar multiplication, matrix negation, transpose, adjunct, and conjugate. In this section, we focus on square matrices of size 3x3."
   ]
  },
  {
   "cell_type": "markdown",
   "id": "9385c1f0",
   "metadata": {},
   "source": [
    "## Manipulating Square Matrices using NumPy\n",
    "Examples of how to manipulate 3x3 square matrices using NumPy, showing operations such as sum, negation, multiplication by a scalar, conjugate, transpose, and adjunct."
   ]
  },
  {
   "cell_type": "code",
   "execution_count": 52,
   "id": "d3a15346-6dc8-4a57-af0b-1fdc437a3414",
   "metadata": {},
   "outputs": [
    {
     "data": {
      "text/plain": [
       "(array([[3.+3.j, 6.+0.j, 3.-3.j],\n",
       "        [1.+1.j, 2.+5.j, 6.-2.j],\n",
       "        [7.+3.j, 8.-2.j, 5.+3.j]]),\n",
       " array([[-2.-3.j, -4.+1.j, -0.-0.j],\n",
       "        [-1.-1.j, -3.-3.j, -5.-0.j],\n",
       "        [-4.-0.j, -6.+2.j, -1.+1.j]]),\n",
       " array([[-0.5+2.5j,  2.5+1.5j,  0. +0.j ],\n",
       "        [ 0. +1.j ,  0. +3.j ,  2.5+2.5j],\n",
       "        [ 2. +2.j ,  4. +2.j ,  1. +0.j ]]),\n",
       " array([[2.-3.j, 4.+1.j, 0.-0.j],\n",
       "        [1.-1.j, 3.-3.j, 5.-0.j],\n",
       "        [4.-0.j, 6.+2.j, 1.+1.j]]),\n",
       " array([[2.+3.j, 1.+1.j, 4.+0.j],\n",
       "        [4.-1.j, 3.+3.j, 6.-2.j],\n",
       "        [0.+0.j, 5.+0.j, 1.-1.j]]),\n",
       " array([[2.-3.j, 1.-1.j, 4.-0.j],\n",
       "        [4.+1.j, 3.-3.j, 6.+2.j],\n",
       "        [0.-0.j, 5.-0.j, 1.+1.j]]))"
      ]
     },
     "execution_count": 52,
     "metadata": {},
     "output_type": "execute_result"
    }
   ],
   "source": [
    "\n",
    "# Define two 3x3 complex matrices\n",
    "m1 = np.array([[2+3j, 4-1j, 0], \n",
    "               [1+1j, 3+3j, 5], \n",
    "               [4, 6-2j, 1-1j]])\n",
    "m2 = np.array([[1, 2+1j, 3-3j], \n",
    "               [0, -1+2j, 1-2j], \n",
    "               [3+3j, 2, 4+4j]])\n",
    "\n",
    "# Sum\n",
    "sum_m = m1 + m2\n",
    "\n",
    "# Negation\n",
    "neg_m1 = -m1\n",
    "\n",
    "# Multiplication by a scalar\n",
    "scalar = 0.5 + 0.5j\n",
    "mult_m1 = m1 * scalar\n",
    "\n",
    "# Conjugate\n",
    "conjugate_m1 = np.conjugate(m1)\n",
    "\n",
    "# Transpose\n",
    "transpose_m1 = m1.T\n",
    "\n",
    "# Adjunct (Conjugate transpose)\n",
    "adjunct_m1 = m1.T.conj()\n",
    "\n",
    "(sum_m, neg_m1, mult_m1, conjugate_m1, transpose_m1, adjunct_m1)\n"
   ]
  },
  {
   "cell_type": "markdown",
   "id": "ed909545-8a5c-4cca-85f7-48688b597598",
   "metadata": {},
   "source": [
    "## Checking the Dimension of a Matrix\n",
    "We can check the dimension of a matrix using the `.shape` attribute."
   ]
  },
  {
   "cell_type": "code",
   "execution_count": 39,
   "id": "0930dc10-af6d-427f-bbcb-75bfaf051db5",
   "metadata": {},
   "outputs": [
    {
     "data": {
      "text/plain": [
       "(3, 3)"
      ]
     },
     "execution_count": 39,
     "metadata": {},
     "output_type": "execute_result"
    }
   ],
   "source": [
    "# Checking the dimension of matrix1\n",
    "m1.shape\n",
    "\n"
   ]
  },
  {
   "cell_type": "markdown",
   "id": "b3fe896b",
   "metadata": {},
   "source": [
    "## Action of a Matrix on a Vector\n",
    "Finally, examples of how to use Python to multiply a 3x3 square matrix by a 3x1 column vector."
   ]
  },
  {
   "cell_type": "code",
   "execution_count": 13,
   "id": "e514d047",
   "metadata": {},
   "outputs": [
    {
     "data": {
      "text/plain": [
       "array([[11. -9.j],\n",
       "       [31.+13.j],\n",
       "       [32.-22.j]])"
      ]
     },
     "execution_count": 13,
     "metadata": {},
     "output_type": "execute_result"
    }
   ],
   "source": [
    "\n",
    "# Multiplying a 3x3 matrix by a 3x1 vector\n",
    "result = np.dot(m1, v1)\n",
    "result\n"
   ]
  },
  {
   "cell_type": "markdown",
   "id": "f9fc3b9d-ac40-4fae-bc08-bf8699ea31a2",
   "metadata": {},
   "source": [
    "# Exercises on Complex Vectors and Matrices with Concrete Cases\n",
    "\n",
    "This set of exercises focuses on operations with complex column vectors and complex square matrices, including concrete cases with vectors and matrices written in LaTeX format.\n",
    "\n",
    "## Complex Column Vector Operations\n",
    "\n",
    "### Exercise 1: Sum of Two Complex Vectors\n",
    "Given two complex vectors \n",
    "$$ v1 = \\begin{bmatrix} 1 + 2i \\\\ 3 - i \\end{bmatrix} $$ \n",
    "and \n",
    "$$ v2 = \\begin{bmatrix} 2 - i \\\\ 4 + 2i \\end{bmatrix} $$, \n",
    "find their sum.\n",
    "\n",
    "### Exercise 2: Negation of a Complex Vector\n",
    "Given a complex vector \n",
    "$$ v = \\begin{bmatrix} 2 + 3i \\\\ 1 - 2i \\end{bmatrix} $$, \n",
    "find its negation.\n",
    "\n",
    "### Exercise 3: Multiplication of a Complex Vector by a Scalar\n",
    "Multiply the complex vector \n",
    "$$ v = \\begin{bmatrix} 1 - i \\\\ 2 + 2i \\end{bmatrix} $$ \n",
    "by the complex scalar $$ 3 + i $$.\n",
    "\n",
    "### Exercise 4: Transpose of a Complex Vector\n",
    "Find the transpose of the complex vector \n",
    "$$ v = \\begin{bmatrix} 2 - i \\\\ 3 + 4i \\end{bmatrix} $$.\n",
    "\n",
    "### Exercise 5: Conjugate of a Complex Vector\n",
    "Compute the conjugate of the complex vector \n",
    "$$ v = \\begin{bmatrix} 1 + i \\\\ 2 - 3i \\end{bmatrix} $$.\n",
    "\n",
    "### Exercise 6: Adjunct (Conjugate Transpose) of a Complex Vector\n",
    "Find the adjunct (or conjugate transpose) of the complex vector \n",
    "$$ v = \\begin{bmatrix} 1 - 2i \\\\ 3 + i \\end{bmatrix} $$.\n",
    "\n",
    "## Complex Square Matrix Operations\n",
    "\n",
    "### Exercise 7: Sum of Two Complex Matrices\n",
    "Given two complex matrices \n",
    "$$ m1 = \\begin{bmatrix} 1 + i & 2 - i \\\\ 3 + 2i & 4 \\end{bmatrix} $$ \n",
    "and \n",
    "$$ m2 = \\begin{bmatrix} 2 - 3i & 1 \\\\ i & 2 + 2i \\end{bmatrix} $$, \n",
    "calculate their sum.\n",
    "\n",
    "### Exercise 8: Negation of a Complex Matrix\n",
    "Find the negation of the complex matrix \n",
    "$$ m = \\begin{bmatrix} 2 + i & 3 \\\\ 1 - i & 2 + 2i \\end{bmatrix} $$.\n",
    "\n",
    "### Exercise 9: Multiplication of a Complex Matrix by a Scalar\n",
    "Multiply the complex matrix \n",
    "$$ m = \\begin{bmatrix} 1 - i & 2 \\\\ 3 + i & 4 - 2i \\end{bmatrix} $$ \n",
    "by the complex scalar $$ 2 + 3i $$.\n",
    "\n",
    "### Exercise 10: Conjugate of a Complex Matrix\n",
    "Compute the conjugate of the complex matrix \n",
    "$$ m = \\begin{bmatrix} 1 + i & 2 \\\\ 3 - i & 4 + 2i \\end{bmatrix} $$.\n",
    "\n",
    "### Exercise 11: Transpose of a Complex Matrix\n",
    "Find the transpose of the complex matrix \n",
    "$$ m = \\begin{bmatrix} 1 - i & 2 + 2i \\\\ 3 & 4 - i \\end{bmatrix} $$.\n",
    "\n",
    "### Exercise 12: Adjunct (Conjugate Transpose) of a Complex Matrix\n",
    "Calculate the adjunct (or conjugate transpose) of the complex matrix \n",
    "$$ m = \\begin{bmatrix} 1 + 2i & 3 - i \\\\ 4 & 5 + i \\end{bmatrix} $$.\n",
    "\n",
    "### Exercise 13: Checking the Dimensions of a Matrix\n",
    "Determine the dimensions of the complex matrix\n",
    "$$ m = \\begin{bmatrix} 1 - i & 2 \\\\ 3 + 2i & 4 - i \\end{bmatrix} $$.\n",
    "\n",
    "## Multiplication of Matrices and Vectors\n",
    "\n",
    "### Exercise 14: Multiplying a Complex Square Matrix by a Complex Column Vector\n",
    "Multiply the complex square matrix \n",
    "$$ m = \\begin{bmatrix} 1 + i & 2 - i \\\\ 3 & 4 + i \\end{bmatrix} $$ \n",
    "by the complex column vector \n",
    "$$ v = \\begin{bmatrix} 2 - i \\\\ 1 + 3i \\end{bmatrix} $$.\n",
    "\n",
    "## Instructions\n",
    "For each exercise, ensure to display both the input (vectors/matrices) and the result of the operation.Use NumPy for these exercises to practice handling complex numbers and matrix operations in Python.\n"
   ]
  },
  {
   "cell_type": "markdown",
   "id": "c1ff0726-200e-4dae-aa98-11242b1eeaf5",
   "metadata": {},
   "source": [
    "\n",
    "# Desarrollo\n",
    "### Exercise 1\n",
    "\n",
    "Given two complex vectors \n",
    "$$ v1 = \\begin{bmatrix} 1 + 2i \\\\ 3 - i \\end{bmatrix} $$ \n",
    "and \n",
    "$$ v2 = \\begin{bmatrix} 2 - i \\\\ 4 + 2i \\end{bmatrix} $$,\n",
    "\n"
   ]
  },
  {
   "cell_type": "code",
   "execution_count": null,
   "id": "2aea9acd-6e80-4e4f-8c2a-f26d3d18bfd1",
   "metadata": {},
   "outputs": [],
   "source": [
    "v3 = np.array([[1+2j], [3-1j]])\n",
    "v4 = np.array([[2-1j], [4+2j]])\n",
    "sum = v3 + v4\n",
    "print(sum)"
   ]
  },
  {
   "cell_type": "markdown",
   "id": "b194911f-3d98-442e-8b9f-0f75ab86c1f6",
   "metadata": {},
   "source": [
    "\n",
    "### Resultado:\n",
    "$$ v3 = \\begin{bmatrix}  3 + i\\\\ 7 + i \\end{bmatrix} $$ "
   ]
  },
  {
   "cell_type": "markdown",
   "id": "882705c1-30c6-4bd1-be8b-0a041ef17164",
   "metadata": {},
   "source": [
    "### Exercise 2: Negation of a Complex Vector\n",
    "Given a complex vector \n",
    "$$ v = \\begin{bmatrix} 2 + 3i \\\\ 1 - 2i \\end{bmatrix} $$,\n"
   ]
  },
  {
   "cell_type": "code",
   "execution_count": 51,
   "id": "e29ca559-cfa1-4665-80f0-3226ab83a41b",
   "metadata": {},
   "outputs": [
    {
     "name": "stdout",
     "output_type": "stream",
     "text": [
      "[[-2.-3.j]\n",
      " [-1.+2.j]]\n"
     ]
    }
   ],
   "source": [
    "m2 = np.array([[2+3j], \n",
    "               [1-2j]])\n",
    "neg_m2 = -m2\n",
    "print(neg_m2)"
   ]
  },
  {
   "cell_type": "markdown",
   "id": "6fa35b47-aef5-4898-8dbd-898f254e8f80",
   "metadata": {
    "jp-MarkdownHeadingCollapsed": true
   },
   "source": [
    "### Resultado:\n",
    "\n",
    "$$ v = \\begin{bmatrix} -2 - 3i \\\\ - 1 + 2i \\end{bmatrix} $$,\n"
   ]
  },
  {
   "cell_type": "markdown",
   "id": "1879a27c-6f18-4be1-81cf-c2b9b48f8b02",
   "metadata": {},
   "source": [
    "### Exercise 3: Multiplication of a Complex Vector by a Scalar\n",
    "\n",
    "Multiply the complex vector \n",
    "$$ v = \\begin{bmatrix} 1 - i \\\\ 2 + 2i \\end{bmatrix} $$ \n",
    "by the complex scalar $$ 3 + i $$.\n"
   ]
  },
  {
   "cell_type": "code",
   "execution_count": null,
   "id": "46bca095-a268-4076-862e-a00d6aee861d",
   "metadata": {},
   "outputs": [],
   "source": [
    "m1 = np.array([[1-1j], [2-2j]])\n",
    "scalar = 3 + 1j\n",
    "mult_m1 = m * scalar\n",
    "print(mult_m1)"
   ]
  },
  {
   "cell_type": "markdown",
   "id": "8c41c64a-5f99-4ffb-8e14-62a2585cc17b",
   "metadata": {},
   "source": [
    "### Resultado: \n",
    "\n",
    "$$ v = \\begin{bmatrix} 4 - 2i \\\\ 4 + 8i \\end{bmatrix} $$ "
   ]
  },
  {
   "cell_type": "markdown",
   "id": "89732139-714a-40dc-9d75-f6b6ebf2878b",
   "metadata": {},
   "source": [
    "\n",
    "### Exercise 4: Transpose of a Complex Vector\n",
    "Find the transpose of the complex vector \n",
    "$$ v = \\begin{bmatrix} 2 - i \\\\ 3 + 4i \\end{bmatrix} $$\n"
   ]
  },
  {
   "cell_type": "code",
   "execution_count": 49,
   "id": "abd82e17-51a2-47c5-99c5-aeac2f4ad3cc",
   "metadata": {},
   "outputs": [
    {
     "name": "stdout",
     "output_type": "stream",
     "text": [
      "[[2.-1.j 3.+4.j]]\n"
     ]
    }
   ],
   "source": [
    "\n",
    "v1 = np.array([[2 - 1j],[3 + 4j]])\n",
    "transpose_v1 = v1.T\n",
    "print(transpose_v1)"
   ]
  },
  {
   "cell_type": "markdown",
   "id": "717d4290-5b6b-4901-a630-5c5ba6e3b48f",
   "metadata": {},
   "source": [
    "### Resultado:\n",
    "$$ \\begin{bmatrix} 2 - i \\\\ 3 + 4i \\end{bmatrix} $$"
   ]
  },
  {
   "cell_type": "markdown",
   "id": "84393340-a762-44b5-b2dd-fa3ba3cf547e",
   "metadata": {},
   "source": [
    "### Exercise 5: Conjugate of a Complex Vector\n",
    "Compute the conjugate of the complex vector \n",
    "$$ v = \\begin{bmatrix} 1 + i \\\\ 2 - 3i \\end{bmatrix} $$.\n",
    "\n",
    "\n"
   ]
  },
  {
   "cell_type": "code",
   "execution_count": 5,
   "id": "d0e0928d-b86a-45a8-8414-5a40700c83b7",
   "metadata": {},
   "outputs": [
    {
     "name": "stdout",
     "output_type": "stream",
     "text": [
      "[[1.-1.j]\n",
      " [2.+3.j]]\n"
     ]
    }
   ],
   "source": [
    "v1 = np.array([[1 + 1j],[2 - 3j]])\n",
    "conjugate_v1 = np.conjugate(v1)\n",
    "print(conjugate_v1)\n"
   ]
  },
  {
   "cell_type": "markdown",
   "id": "dc4e1cc7-ecde-4ad2-815e-f87e496472e7",
   "metadata": {},
   "source": [
    "## Resultado\n",
    "\n",
    "$$ \\begin{bmatrix} 1 - i \\\\ 2 + 3i \\end{bmatrix} $$."
   ]
  },
  {
   "cell_type": "markdown",
   "id": "dba21644-dbc5-4d3f-9319-8f0aa09145d7",
   "metadata": {},
   "source": [
    "### Exercise 6: Adjunct (Conjugate Transpose) of a Complex Vector\n",
    "Find the adjunct (or conjugate transpose) of the complex vector \n",
    "$$ v = \\begin{bmatrix} 1 - 2i \\\\ 3 + i \\end{bmatrix} $$.\n",
    "\n"
   ]
  },
  {
   "cell_type": "code",
   "execution_count": 8,
   "id": "75434dbb-03d5-4061-a188-a3934a6130f4",
   "metadata": {},
   "outputs": [
    {
     "name": "stdout",
     "output_type": "stream",
     "text": [
      "[[1.+2.j 3.-1.j]]\n"
     ]
    }
   ],
   "source": [
    "m1 = np.array([[1 -2j],[3 + 1j]])\n",
    "adjunct_m1 = m1.T.conj()\n",
    "print(adjunct_m1)\n"
   ]
  },
  {
   "cell_type": "markdown",
   "id": "1bccaa9c-2fa7-4d8d-9589-829dd01d763e",
   "metadata": {},
   "source": [
    "### Resultado: \n",
    "$$ \\begin{bmatrix} 1 + 2i & 3 - i \\end{bmatrix} $$"
   ]
  },
  {
   "cell_type": "markdown",
   "id": "97d2fa3c-1ff4-4b22-8898-4d72f9e7af53",
   "metadata": {},
   "source": [
    "\n",
    "### Exercise 7: Sum of Two Complex Matrices\n",
    "Given two complex matrices \n",
    "$$ m1 = \\begin{bmatrix} 1 + i & 2 - i \\\\ 3 + 2i & 4 \\end{bmatrix} $$ \n",
    "and \n",
    "$$ m2 = \\begin{bmatrix} 2 - 3i & 1 \\\\ i & 2 + 2i \\end{bmatrix} $$, \n",
    "calculate their sum."
   ]
  },
  {
   "cell_type": "code",
   "execution_count": 14,
   "id": "eeab7a9f-6022-4f6b-819f-939ad85bbacb",
   "metadata": {},
   "outputs": [
    {
     "name": "stdout",
     "output_type": "stream",
     "text": [
      "[[3.-2.j 3.-1.j]\n",
      " [3.+3.j 4.+4.j]]\n"
     ]
    }
   ],
   "source": [
    "m1 = np.array([[1+1j, 2-1j], \n",
    "               [3+2j, 2+2j]])\n",
    "m2 = np.array([[2 -3J, 1], \n",
    "               [1J, 2+2j]])\n",
    "\n",
    "sum_m = m1 + m2\n",
    "print(sum_m)\n"
   ]
  },
  {
   "cell_type": "markdown",
   "id": "3597cfeb-0116-42a6-85db-37cb01887c30",
   "metadata": {},
   "source": [
    "### Resultado\n",
    "$$ m2 = \\begin{bmatrix} 3 - 2i & 3 - i \\\\ 3 + 3i & 4 + 4i \\end{bmatrix} $$"
   ]
  },
  {
   "cell_type": "markdown",
   "id": "ff2ab710-4c3e-4d18-90bd-70a08a44bdf5",
   "metadata": {},
   "source": [
    "### Exercise 8: Negation of a Complex Matrix\n",
    "Find the negation of the complex matrix \n",
    "$$ \\begin{bmatrix} 2 + i & 3 \\\\ 1 - i & 2 + 2i \\end{bmatrix} $$.\n"
   ]
  },
  {
   "cell_type": "code",
   "execution_count": 22,
   "id": "9763a97b-5e1b-4398-86be-107f870fbc18",
   "metadata": {},
   "outputs": [
    {
     "name": "stdout",
     "output_type": "stream",
     "text": [
      "[[-2.-1.j -3.-0.j]\n",
      " [-1.+1.j -2.-2.j]]\n"
     ]
    }
   ],
   "source": [
    "m1 = np.array([[2 + 1j, 3],[1 - 1j, 2 + 2j]])\n",
    "neg_m1 = -m1\n",
    "print(neg_m1)\n"
   ]
  },
  {
   "cell_type": "markdown",
   "id": "17e80990-cc86-40ab-bd05-6fcc795ef893",
   "metadata": {},
   "source": [
    "### Resultado\n",
    "$$ \\begin{bmatrix} -2 - i & -3 \\\\ -1 + i & -2 - 2i \\end{bmatrix} $$.\n"
   ]
  },
  {
   "cell_type": "markdown",
   "id": "b17aa78b-3776-4410-9882-2053719ac992",
   "metadata": {},
   "source": [
    "### Exercise 9: Multiplication of a Complex Matrix by a Scalar\n",
    "Multiply the complex matrix \n",
    "$$ m = \\begin{bmatrix} 1 - i & 2 \\\\ 3 + i & 4 - 2i \\end{bmatrix} $$ \n",
    "by the complex scalar $$ 2 + 3i $$.\n"
   ]
  },
  {
   "cell_type": "code",
   "execution_count": 32,
   "id": "2c1e1c79-1af1-405f-ae1c-c822502b54f3",
   "metadata": {},
   "outputs": [
    {
     "name": "stdout",
     "output_type": "stream",
     "text": [
      "[[ 5. +1.j  4. +6.j]\n",
      " [ 3.+11.j 14. +8.j]]\n"
     ]
    }
   ],
   "source": [
    "m1 = np.array([[1 -1j , 2 ],[3 + 1j, 4 - 2j]])\n",
    "scalar = 2 + 3j\n",
    "mult_m1 = m1 * scalar\n",
    "print(mult_m1)\n"
   ]
  },
  {
   "cell_type": "markdown",
   "id": "91269392-5d00-4dc2-81f7-30d7f224ce78",
   "metadata": {},
   "source": [
    "### Resultado: \n",
    "$$ \\begin{bmatrix} 5 + i & 4 + 6i \\\\ 3 + 11i & 14 + 8i \\end{bmatrix} $$ \n"
   ]
  },
  {
   "cell_type": "markdown",
   "id": "48ca1837-e66d-4b17-98a5-5e4c6bced40a",
   "metadata": {},
   "source": [
    "\n",
    "### Exercise 10: Conjugate of a Complex Matrix\n",
    "Compute the conjugate of the complex matrix \n",
    "$$ m = \\begin{bmatrix} 1 + i & 2 \\\\ 3 - i & 4 + 2i \\end{bmatrix} $$."
   ]
  },
  {
   "cell_type": "code",
   "execution_count": 28,
   "id": "42e8b565-7fda-42e6-b01a-88cca610c8ee",
   "metadata": {},
   "outputs": [
    {
     "name": "stdout",
     "output_type": "stream",
     "text": [
      "[[1.-1.j 1.-2.j]\n",
      " [3.+1.j 4.-2.j]]\n"
     ]
    }
   ],
   "source": [
    "m1 = np.array([[1 + 1j, 1 + 2j],[3 - 1j , 4 + 2j]])\n",
    "conjugate_m1 = np.conjugate(m1)\n",
    "print(conjugate_m1)\n"
   ]
  },
  {
   "cell_type": "markdown",
   "id": "c56263a0-7cac-4668-80ae-3c7dbf303dd5",
   "metadata": {},
   "source": [
    "### Resultado\n",
    "$$ \\begin{bmatrix} 1 - i & 1-2i \\\\ 3 + i & 4 - 2i \\end{bmatrix} $$."
   ]
  },
  {
   "cell_type": "markdown",
   "id": "84f3d366-a400-4cc5-ac92-6f1239485370",
   "metadata": {},
   "source": [
    "\n",
    "### Exercise 11: Transpose of a Complex Matrix\n",
    "Find the transpose of the complex matrix \n",
    "$$ m = \\begin{bmatrix} 1 - i & 2 + 2i \\\\ 3 & 4 - i \\end{bmatrix} $$."
   ]
  },
  {
   "cell_type": "code",
   "execution_count": 35,
   "id": "3fdcf77e-ac1f-4283-830e-d7909d083ac4",
   "metadata": {},
   "outputs": [
    {
     "name": "stdout",
     "output_type": "stream",
     "text": [
      "[[1.-1.j 3.+0.j]\n",
      " [2.+2.j 4.-1.j]]\n"
     ]
    }
   ],
   "source": [
    "m1 = np.array([[1 - 1j, 2 + 2j],[3 , 4 - 1j]])\n",
    "transpose_m1 = m1.T\n",
    "print(transpose_m1)"
   ]
  },
  {
   "cell_type": "markdown",
   "id": "35fbbb7f-602a-42ab-906c-e0391cbf5ef1",
   "metadata": {},
   "source": [
    "### Resultado\n",
    "$$ \\begin{bmatrix} 1 - i & 3 \\\\ 2 + 2i & 4 - i \\end{bmatrix} $$.\n"
   ]
  },
  {
   "cell_type": "markdown",
   "id": "fb6a8c46-eae5-42a1-853e-2395e4f322b1",
   "metadata": {},
   "source": [
    "### Exercise 12: Adjunct (Conjugate Transpose) of a Complex Matrix\n",
    "Calculate the adjunct (or conjugate transpose) of the complex matrix \n",
    "$$ m = \\begin{bmatrix} 1 + 2i & 3 - i \\\\ 4 & 5 + i \\end{bmatrix} $$."
   ]
  },
  {
   "cell_type": "code",
   "execution_count": 41,
   "id": "a407fe12-ffe3-41ff-9a09-e35b994fa0c1",
   "metadata": {},
   "outputs": [
    {
     "name": "stdout",
     "output_type": "stream",
     "text": [
      "[[1.-2.j 4.-0.j]\n",
      " [3.+1.j 5.-1.j]]\n"
     ]
    }
   ],
   "source": [
    "m1 = np.array([[1 + 2j, 3 - 1j],[4 , 5 + 1j]]) \n",
    "adjunct_m1 = m1.T.conj()\n",
    "print(adjunct_m1)\n"
   ]
  },
  {
   "cell_type": "markdown",
   "id": "cb62a5a6-ca14-423f-9442-05c972111da3",
   "metadata": {},
   "source": [
    "### Resultado\n",
    "$$ \\begin{bmatrix} 1 - 2i & 4 \\\\ 3 + i & 5 - i \\end{bmatrix} $$."
   ]
  },
  {
   "cell_type": "code",
   "execution_count": null,
   "id": "e6399dc8-509b-467d-9b47-9e128a2488db",
   "metadata": {},
   "outputs": [],
   "source": [
    "### Exercise 13: Checking the Dimensions of a Matrix\n",
    "Determine the dimensions of the complex matrix\n",
    "$$ m = \\begin{bmatrix} 1 - i & 2 \\\\ 3 + 2i & 4 - i \\end{bmatrix} $$."
   ]
  },
  {
   "cell_type": "code",
   "execution_count": 44,
   "id": "364baf08-0104-4129-8918-889d7dc76cf2",
   "metadata": {},
   "outputs": [
    {
     "name": "stdout",
     "output_type": "stream",
     "text": [
      "(2, 2)\n"
     ]
    }
   ],
   "source": [
    "m1 = np.array([[1 - 1j , 2],[3 + 2j, 4 - 1j]])\n",
    "m2 = m1.shape\n",
    "print(m2)"
   ]
  },
  {
   "cell_type": "markdown",
   "id": "2407749a-b65b-47bf-8cb5-991a41b5c9ad",
   "metadata": {},
   "source": [
    "### Resultado:\n",
    "$$ dimension = \\begin{bmatrix} 2, & 2\\end{bmatrix} $$\n"
   ]
  },
  {
   "cell_type": "markdown",
   "id": "84942a3e-6506-47b7-8120-6b319d034071",
   "metadata": {},
   "source": [
    "\n",
    "### Exercise 14: Multiplying a Complex Square Matrix by a Complex Column Vector\n",
    "Multiply the complex square matrix \n",
    "$$ m = \\begin{bmatrix} 1 + i & 2 - i \\\\ 3 & 4 + i \\end{bmatrix} $$ \n",
    "by the complex column vector \n",
    "$$ v = \\begin{bmatrix} 2 - i \\\\ 1 + 3i \\end{bmatrix} $$."
   ]
  },
  {
   "cell_type": "code",
   "execution_count": 48,
   "id": "f3ae61e2-c36f-489e-a881-9b383a50e65d",
   "metadata": {},
   "outputs": [
    {
     "name": "stdout",
     "output_type": "stream",
     "text": [
      "[[9. +8.j]\n",
      " [6.+14.j]]\n"
     ]
    }
   ],
   "source": [
    "m1 = np.array([[1+1j, 2-1j], \n",
    "               [3, 4 + 1j]])\n",
    "v1 = np.array([[2- 1j],[1+4j]])\n",
    "result = np.dot(m1, v1)\n",
    "print(result)\n"
   ]
  },
  {
   "cell_type": "markdown",
   "id": "584fa815-6901-4b65-a105-1946254c50e2",
   "metadata": {},
   "source": [
    "### Resultado\n",
    "\n",
    "$$  \\begin{bmatrix}   9 + 8i \\\\ 6 + 14i \\end{bmatrix} $$ "
   ]
  }
 ],
 "metadata": {
  "kernelspec": {
   "display_name": "Python 3 (ipykernel)",
   "language": "python",
   "name": "python3"
  },
  "language_info": {
   "codemirror_mode": {
    "name": "ipython",
    "version": 3
   },
   "file_extension": ".py",
   "mimetype": "text/x-python",
   "name": "python",
   "nbconvert_exporter": "python",
   "pygments_lexer": "ipython3",
   "version": "3.12.0"
  }
 },
 "nbformat": 4,
 "nbformat_minor": 5
}
